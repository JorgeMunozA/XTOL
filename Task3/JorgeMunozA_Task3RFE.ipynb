{
 "cells": [
  {
   "cell_type": "markdown",
   "metadata": {},
   "source": [
    "# Libraries Definition\n"
   ]
  },
  {
   "cell_type": "code",
   "execution_count": 14,
   "metadata": {},
   "outputs": [],
   "source": [
    "import pandas as pd\n",
    "import numpy as np\n",
    "import matplotlib as pt\n",
    "import seaborn as sns \n",
    "from sklearn.model_selection import train_test_split\n",
    "\n",
    "#estimators\n",
    "from sklearn.ensemble import RandomForestRegressor\n",
    "from sklearn.linear_model import LinearRegression\n",
    "from sklearn.svm import SVR\n",
    "from sklearn import svm\n",
    "from sklearn import linear_model\n",
    "\n",
    "#model metrics\n",
    "from sklearn.metrics import mean_squared_error\n",
    "from sklearn.metrics import r2_score\n",
    "from sklearn.model_selection import cross_val_score\n",
    "\n",
    "from sklearn.metrics import mean_squared_error\n",
    "from sklearn.metrics import r2_score\n",
    "from sklearn.metrics import classification_report, confusion_matrix, accuracy_score\n",
    "from sklearn import tree\n",
    "from sklearn.feature_selection import RFE\n",
    "from sklearn.decomposition import PCA\n",
    "from sklearn.ensemble import ExtraTreesClassifier\n",
    "from sklearn.ensemble import RandomForestClassifier\n",
    "\n",
    "from math import sqrt\n",
    "\n",
    "\n",
    "cmap = sns.cubehelix_palette(dark=.3, light=.8, as_cmap=True)\n",
    "%matplotlib inline\n",
    "pt.style.use('ggplot')"
   ]
  },
  {
   "cell_type": "markdown",
   "metadata": {},
   "source": [
    "# Data Preparation "
   ]
  },
  {
   "cell_type": "code",
   "execution_count": 2,
   "metadata": {},
   "outputs": [],
   "source": [
    "data = pd.read_csv(\"defaultcreditcardclients.csv\") "
   ]
  },
  {
   "cell_type": "code",
   "execution_count": 3,
   "metadata": {},
   "outputs": [
    {
     "name": "stdout",
     "output_type": "stream",
     "text": [
      "No. of columns containing null values\n",
      "0\n"
     ]
    }
   ],
   "source": [
    "#Check Null Values\n",
    "print(\"No. of columns containing null values\")\n",
    "print(len(data.columns[data.isna().any()]))"
   ]
  },
  {
   "cell_type": "code",
   "execution_count": 4,
   "metadata": {},
   "outputs": [
    {
     "name": "stdout",
     "output_type": "stream",
     "text": [
      "<class 'pandas.core.frame.DataFrame'>\n",
      "RangeIndex: 30000 entries, 0 to 29999\n",
      "Data columns (total 25 columns):\n",
      "LIMIT_BAL     30000 non-null int64\n",
      "SEX           30000 non-null int64\n",
      "EDUCATION     30000 non-null int64\n",
      "MARRIAGE      30000 non-null int64\n",
      "AGE           30000 non-null int64\n",
      "PAY_0         30000 non-null int64\n",
      "PAY_2         30000 non-null int64\n",
      "PAY_3         30000 non-null int64\n",
      "PAY_4         30000 non-null int64\n",
      "PAY_5         30000 non-null int64\n",
      "PAY_6         30000 non-null int64\n",
      "BILL_AMT1     30000 non-null int64\n",
      "BILL_AMT2     30000 non-null int64\n",
      "BILL_AMT3     30000 non-null int64\n",
      "BILL_AMT4     30000 non-null int64\n",
      "BILL_AMT5     30000 non-null int64\n",
      "BILL_AMT6     30000 non-null int64\n",
      "PAY_AMT1      30000 non-null int64\n",
      "PAY_AMT2      30000 non-null int64\n",
      "PAY_AMT3      30000 non-null int64\n",
      "PAY_AMT4      30000 non-null int64\n",
      "PAY_AMT5      30000 non-null int64\n",
      "PAY_AMT6      30000 non-null int64\n",
      "IsDefault     30000 non-null int64\n",
      "_IsDefault    30000 non-null bool\n",
      "dtypes: bool(1), int64(24)\n",
      "memory usage: 5.5 MB\n"
     ]
    }
   ],
   "source": [
    "data.rename(columns={'default payment next month': 'IsDefault'}, inplace=True)\n",
    "#Drop ID column since it is not required for prediction or analysis\n",
    "data.drop('ID', axis=1, inplace=True)\n",
    "#Transformar variable dependiente de Integer a Bool\n",
    "data['_IsDefault']=True\n",
    "data.info()\n",
    "data['_IsDefault']=data['IsDefault'].astype(bool)\n",
    "data.drop('IsDefault', axis=1, inplace=True)"
   ]
  },
  {
   "cell_type": "code",
   "execution_count": 5,
   "metadata": {},
   "outputs": [],
   "source": [
    "data.rename(columns={'_IsDefault': 'IsDefault'}, inplace=True)"
   ]
  },
  {
   "cell_type": "code",
   "execution_count": 6,
   "metadata": {},
   "outputs": [
    {
     "name": "stdout",
     "output_type": "stream",
     "text": [
      "<class 'pandas.core.frame.DataFrame'>\n",
      "RangeIndex: 30000 entries, 0 to 29999\n",
      "Data columns (total 24 columns):\n",
      "LIMIT_BAL    30000 non-null int64\n",
      "SEX          30000 non-null int64\n",
      "EDUCATION    30000 non-null int64\n",
      "MARRIAGE     30000 non-null int64\n",
      "AGE          30000 non-null int64\n",
      "PAY_0        30000 non-null int64\n",
      "PAY_2        30000 non-null int64\n",
      "PAY_3        30000 non-null int64\n",
      "PAY_4        30000 non-null int64\n",
      "PAY_5        30000 non-null int64\n",
      "PAY_6        30000 non-null int64\n",
      "BILL_AMT1    30000 non-null int64\n",
      "BILL_AMT2    30000 non-null int64\n",
      "BILL_AMT3    30000 non-null int64\n",
      "BILL_AMT4    30000 non-null int64\n",
      "BILL_AMT5    30000 non-null int64\n",
      "BILL_AMT6    30000 non-null int64\n",
      "PAY_AMT1     30000 non-null int64\n",
      "PAY_AMT2     30000 non-null int64\n",
      "PAY_AMT3     30000 non-null int64\n",
      "PAY_AMT4     30000 non-null int64\n",
      "PAY_AMT5     30000 non-null int64\n",
      "PAY_AMT6     30000 non-null int64\n",
      "IsDefault    30000 non-null bool\n",
      "dtypes: bool(1), int64(23)\n",
      "memory usage: 5.3 MB\n"
     ]
    }
   ],
   "source": [
    "data.info()"
   ]
  },
  {
   "cell_type": "markdown",
   "metadata": {},
   "source": [
    "# CoVariance"
   ]
  },
  {
   "cell_type": "code",
   "execution_count": null,
   "metadata": {},
   "outputs": [],
   "source": [
    "covMatrix = np.cov(data,bias=True)\n",
    "#sn.heatmap(covMatrix, annot=True, fmt='g')"
   ]
  },
  {
   "cell_type": "markdown",
   "metadata": {},
   "source": [
    "# Feature Engineering"
   ]
  },
  {
   "cell_type": "code",
   "execution_count": null,
   "metadata": {},
   "outputs": [],
   "source": [
    "#RFE\n",
    "x = data.iloc[:,0:23]\n",
    "y= data.iloc[:,23]\n",
    "\n",
    "model = RandomForestClassifier(n_estimators=20, random_state=0)\n",
    "rfe = RFE(model, 3)\n",
    "fit = rfe.fit(x, y)\n",
    "rfe = RFE(modelRF, 3)\n",
    "fit = rfe.fit(x, y)\n",
    "print(\"Num Features: %d\" % fit.n_features_)\n",
    "print(\"Selected Features: %s\" % fit.support_)\n",
    "print(\"Feature Ranking: %s\" % fit.ranking_)\n"
   ]
  },
  {
   "cell_type": "code",
   "execution_count": null,
   "metadata": {},
   "outputs": [],
   "source": [
    "#PCA\n",
    "# feature extraction\n",
    "pca = PCA(n_components=3)\n",
    "fit = pca.fit(x)\n",
    "# summarize components\n",
    "print(\"Explained Variance: %s\" % fit.explained_variance_ratio_)\n",
    "print(fit.components_)"
   ]
  },
  {
   "cell_type": "code",
   "execution_count": null,
   "metadata": {},
   "outputs": [],
   "source": [
    "# ExtraTreesClassifer\n",
    "model = ExtraTreesClassifier(n_estimators=10)\n",
    "model.fit(x, y)\n",
    "print(model.feature_importances_)"
   ]
  },
  {
   "cell_type": "markdown",
   "metadata": {},
   "source": [
    "# Create RFE Dataset"
   ]
  },
  {
   "cell_type": "code",
   "execution_count": 26,
   "metadata": {},
   "outputs": [
    {
     "name": "stderr",
     "output_type": "stream",
     "text": [
      "/home/jorge/anaconda3/envs/py3/lib/python3.7/site-packages/ipykernel_launcher.py:5: RuntimeWarning: divide by zero encountered in log\n",
      "  \"\"\"\n",
      "/home/jorge/anaconda3/envs/py3/lib/python3.7/site-packages/ipykernel_launcher.py:5: RuntimeWarning: invalid value encountered in log\n",
      "  \"\"\"\n",
      "/home/jorge/anaconda3/envs/py3/lib/python3.7/site-packages/ipykernel_launcher.py:6: RuntimeWarning: divide by zero encountered in log\n",
      "  \n",
      "/home/jorge/anaconda3/envs/py3/lib/python3.7/site-packages/ipykernel_launcher.py:6: RuntimeWarning: invalid value encountered in log\n",
      "  \n",
      "/home/jorge/anaconda3/envs/py3/lib/python3.7/site-packages/ipykernel_launcher.py:7: RuntimeWarning: divide by zero encountered in log\n",
      "  import sys\n",
      "/home/jorge/anaconda3/envs/py3/lib/python3.7/site-packages/ipykernel_launcher.py:7: RuntimeWarning: invalid value encountered in log\n",
      "  import sys\n",
      "/home/jorge/anaconda3/envs/py3/lib/python3.7/site-packages/ipykernel_launcher.py:8: RuntimeWarning: divide by zero encountered in log\n",
      "  \n",
      "/home/jorge/anaconda3/envs/py3/lib/python3.7/site-packages/ipykernel_launcher.py:8: RuntimeWarning: invalid value encountered in log\n",
      "  \n",
      "/home/jorge/anaconda3/envs/py3/lib/python3.7/site-packages/ipykernel_launcher.py:9: RuntimeWarning: divide by zero encountered in log\n",
      "  if __name__ == '__main__':\n",
      "/home/jorge/anaconda3/envs/py3/lib/python3.7/site-packages/ipykernel_launcher.py:9: RuntimeWarning: invalid value encountered in log\n",
      "  if __name__ == '__main__':\n",
      "/home/jorge/anaconda3/envs/py3/lib/python3.7/site-packages/ipykernel_launcher.py:10: RuntimeWarning: divide by zero encountered in log\n",
      "  # Remove the CWD from sys.path while we load stuff.\n",
      "/home/jorge/anaconda3/envs/py3/lib/python3.7/site-packages/ipykernel_launcher.py:10: RuntimeWarning: invalid value encountered in log\n",
      "  # Remove the CWD from sys.path while we load stuff.\n"
     ]
    }
   ],
   "source": [
    "columns = ['AGE', 'PAY_0','PAY_2','BILL_AMT1','BILL_AMT2','BILL_AMT3','BILL_AMT4','BILL_AMT5','BILL_AMT6','IsDefault']\n",
    "dataRFE = pd.DataFrame(data, columns=columns)\n",
    "\n",
    "dataRFE['_Age']=np.log(dataRFE['AGE'])\n",
    "dataRFE['_Bill1']=np.log(dataRFE['BILL_AMT1'])\n",
    "dataRFE['_Bill2']=np.log(dataRFE['BILL_AMT2'])\n",
    "dataRFE['_Bill3']=np.log(dataRFE['BILL_AMT3'])\n",
    "dataRFE['_Bill4']=np.log(dataRFE['BILL_AMT4'])\n",
    "dataRFE['_Bill5']=np.log(dataRFE['BILL_AMT5'])\n",
    "dataRFE['_Bill6']=np.log(dataRFE['BILL_AMT6'])"
   ]
  },
  {
   "cell_type": "code",
   "execution_count": 22,
   "metadata": {},
   "outputs": [
    {
     "name": "stdout",
     "output_type": "stream",
     "text": [
      "<class 'pandas.core.frame.DataFrame'>\n",
      "RangeIndex: 30000 entries, 0 to 29999\n",
      "Data columns (total 11 columns):\n",
      "AGE          30000 non-null int64\n",
      "PAY_0        30000 non-null int64\n",
      "PAY_2        30000 non-null int64\n",
      "BILL_AMT1    30000 non-null int64\n",
      "BILL_AMT2    30000 non-null int64\n",
      "BILL_AMT3    30000 non-null int64\n",
      "BILL_AMT4    30000 non-null int64\n",
      "BILL_AMT5    30000 non-null int64\n",
      "BILL_AMT6    30000 non-null int64\n",
      "IsDefault    30000 non-null bool\n",
      "_Age         30000 non-null float64\n",
      "dtypes: bool(1), float64(1), int64(9)\n",
      "memory usage: 2.3 MB\n"
     ]
    }
   ],
   "source": [
    "dataRFE.info()"
   ]
  },
  {
   "cell_type": "code",
   "execution_count": 51,
   "metadata": {},
   "outputs": [
    {
     "name": "stdout",
     "output_type": "stream",
     "text": [
      "No. of columns containing null values\n",
      "6\n"
     ]
    }
   ],
   "source": [
    "#Check Null Values\n",
    "print(\"No. of columns containing null values\")\n",
    "print(len(dataRFE.columns[dataRFE.isna().any()]))\n"
   ]
  },
  {
   "cell_type": "code",
   "execution_count": 52,
   "metadata": {},
   "outputs": [],
   "source": [
    "dataRFE.dropna(inplace=True)"
   ]
  },
  {
   "cell_type": "code",
   "execution_count": 37,
   "metadata": {},
   "outputs": [],
   "source": [
    "dataRFE.drop('AGE', axis=1, inplace=True)\n",
    "dataRFE.drop('BILL_AMT1', axis=1, inplace=True)\n",
    "dataRFE.drop('BILL_AMT2', axis=1, inplace=True)\n",
    "dataRFE.drop('BILL_AMT3', axis=1, inplace=True)\n",
    "dataRFE.drop('BILL_AMT4', axis=1, inplace=True)\n",
    "dataRFE.drop('BILL_AMT5', axis=1, inplace=True)\n",
    "dataRFE.drop('BILL_AMT6', axis=1, inplace=True)"
   ]
  },
  {
   "cell_type": "code",
   "execution_count": 49,
   "metadata": {},
   "outputs": [],
   "source": [
    "dataRFE.replace([np.inf, -np.inf], np.nan,inplace=True)"
   ]
  },
  {
   "cell_type": "code",
   "execution_count": 53,
   "metadata": {},
   "outputs": [
    {
     "data": {
      "text/html": [
       "<div>\n",
       "<style scoped>\n",
       "    .dataframe tbody tr th:only-of-type {\n",
       "        vertical-align: middle;\n",
       "    }\n",
       "\n",
       "    .dataframe tbody tr th {\n",
       "        vertical-align: top;\n",
       "    }\n",
       "\n",
       "    .dataframe thead th {\n",
       "        text-align: right;\n",
       "    }\n",
       "</style>\n",
       "<table border=\"1\" class=\"dataframe\">\n",
       "  <thead>\n",
       "    <tr style=\"text-align: right;\">\n",
       "      <th></th>\n",
       "      <th>PAY_0</th>\n",
       "      <th>PAY_2</th>\n",
       "      <th>IsDefault</th>\n",
       "      <th>_Age</th>\n",
       "      <th>_Bill1</th>\n",
       "      <th>_Bill2</th>\n",
       "      <th>_Bill3</th>\n",
       "      <th>_Bill4</th>\n",
       "      <th>_Bill5</th>\n",
       "      <th>_Bill6</th>\n",
       "    </tr>\n",
       "  </thead>\n",
       "  <tbody>\n",
       "    <tr>\n",
       "      <th>1</th>\n",
       "      <td>-1</td>\n",
       "      <td>2</td>\n",
       "      <td>True</td>\n",
       "      <td>3.258097</td>\n",
       "      <td>7.894318</td>\n",
       "      <td>7.452982</td>\n",
       "      <td>7.894318</td>\n",
       "      <td>8.093157</td>\n",
       "      <td>8.147578</td>\n",
       "      <td>8.089789</td>\n",
       "    </tr>\n",
       "    <tr>\n",
       "      <th>2</th>\n",
       "      <td>0</td>\n",
       "      <td>0</td>\n",
       "      <td>False</td>\n",
       "      <td>3.526361</td>\n",
       "      <td>10.283259</td>\n",
       "      <td>9.548739</td>\n",
       "      <td>9.514806</td>\n",
       "      <td>9.570180</td>\n",
       "      <td>9.612333</td>\n",
       "      <td>9.651752</td>\n",
       "    </tr>\n",
       "    <tr>\n",
       "      <th>3</th>\n",
       "      <td>0</td>\n",
       "      <td>0</td>\n",
       "      <td>False</td>\n",
       "      <td>3.610918</td>\n",
       "      <td>10.757690</td>\n",
       "      <td>10.783799</td>\n",
       "      <td>10.805497</td>\n",
       "      <td>10.251112</td>\n",
       "      <td>10.273636</td>\n",
       "      <td>10.293737</td>\n",
       "    </tr>\n",
       "    <tr>\n",
       "      <th>4</th>\n",
       "      <td>-1</td>\n",
       "      <td>0</td>\n",
       "      <td>False</td>\n",
       "      <td>4.043051</td>\n",
       "      <td>9.061492</td>\n",
       "      <td>8.642944</td>\n",
       "      <td>10.486680</td>\n",
       "      <td>9.949416</td>\n",
       "      <td>9.859849</td>\n",
       "      <td>9.859065</td>\n",
       "    </tr>\n",
       "    <tr>\n",
       "      <th>5</th>\n",
       "      <td>0</td>\n",
       "      <td>0</td>\n",
       "      <td>False</td>\n",
       "      <td>3.610918</td>\n",
       "      <td>11.072869</td>\n",
       "      <td>10.952016</td>\n",
       "      <td>10.961417</td>\n",
       "      <td>9.872719</td>\n",
       "      <td>9.884254</td>\n",
       "      <td>9.904687</td>\n",
       "    </tr>\n",
       "  </tbody>\n",
       "</table>\n",
       "</div>"
      ],
      "text/plain": [
       "   PAY_0  PAY_2  IsDefault      _Age     _Bill1     _Bill2     _Bill3  \\\n",
       "1     -1      2       True  3.258097   7.894318   7.452982   7.894318   \n",
       "2      0      0      False  3.526361  10.283259   9.548739   9.514806   \n",
       "3      0      0      False  3.610918  10.757690  10.783799  10.805497   \n",
       "4     -1      0      False  4.043051   9.061492   8.642944  10.486680   \n",
       "5      0      0      False  3.610918  11.072869  10.952016  10.961417   \n",
       "\n",
       "      _Bill4     _Bill5     _Bill6  \n",
       "1   8.093157   8.147578   8.089789  \n",
       "2   9.570180   9.612333   9.651752  \n",
       "3  10.251112  10.273636  10.293737  \n",
       "4   9.949416   9.859849   9.859065  \n",
       "5   9.872719   9.884254   9.904687  "
      ]
     },
     "execution_count": 53,
     "metadata": {},
     "output_type": "execute_result"
    }
   ],
   "source": [
    "dataRFE.head()"
   ]
  },
  {
   "cell_type": "markdown",
   "metadata": {},
   "source": [
    "# Define Datasets"
   ]
  },
  {
   "cell_type": "code",
   "execution_count": 54,
   "metadata": {},
   "outputs": [
    {
     "data": {
      "text/html": [
       "<div>\n",
       "<style scoped>\n",
       "    .dataframe tbody tr th:only-of-type {\n",
       "        vertical-align: middle;\n",
       "    }\n",
       "\n",
       "    .dataframe tbody tr th {\n",
       "        vertical-align: top;\n",
       "    }\n",
       "\n",
       "    .dataframe thead th {\n",
       "        text-align: right;\n",
       "    }\n",
       "</style>\n",
       "<table border=\"1\" class=\"dataframe\">\n",
       "  <thead>\n",
       "    <tr style=\"text-align: right;\">\n",
       "      <th></th>\n",
       "      <th>PAY_0</th>\n",
       "      <th>PAY_2</th>\n",
       "      <th>IsDefault</th>\n",
       "      <th>_Age</th>\n",
       "      <th>_Bill1</th>\n",
       "      <th>_Bill2</th>\n",
       "      <th>_Bill3</th>\n",
       "      <th>_Bill4</th>\n",
       "      <th>_Bill5</th>\n",
       "      <th>_Bill6</th>\n",
       "    </tr>\n",
       "  </thead>\n",
       "  <tbody>\n",
       "    <tr>\n",
       "      <th>1</th>\n",
       "      <td>-1</td>\n",
       "      <td>2</td>\n",
       "      <td>True</td>\n",
       "      <td>3.258097</td>\n",
       "      <td>7.894318</td>\n",
       "      <td>7.452982</td>\n",
       "      <td>7.894318</td>\n",
       "      <td>8.093157</td>\n",
       "      <td>8.147578</td>\n",
       "      <td>8.089789</td>\n",
       "    </tr>\n",
       "    <tr>\n",
       "      <th>2</th>\n",
       "      <td>0</td>\n",
       "      <td>0</td>\n",
       "      <td>False</td>\n",
       "      <td>3.526361</td>\n",
       "      <td>10.283259</td>\n",
       "      <td>9.548739</td>\n",
       "      <td>9.514806</td>\n",
       "      <td>9.570180</td>\n",
       "      <td>9.612333</td>\n",
       "      <td>9.651752</td>\n",
       "    </tr>\n",
       "    <tr>\n",
       "      <th>3</th>\n",
       "      <td>0</td>\n",
       "      <td>0</td>\n",
       "      <td>False</td>\n",
       "      <td>3.610918</td>\n",
       "      <td>10.757690</td>\n",
       "      <td>10.783799</td>\n",
       "      <td>10.805497</td>\n",
       "      <td>10.251112</td>\n",
       "      <td>10.273636</td>\n",
       "      <td>10.293737</td>\n",
       "    </tr>\n",
       "    <tr>\n",
       "      <th>4</th>\n",
       "      <td>-1</td>\n",
       "      <td>0</td>\n",
       "      <td>False</td>\n",
       "      <td>4.043051</td>\n",
       "      <td>9.061492</td>\n",
       "      <td>8.642944</td>\n",
       "      <td>10.486680</td>\n",
       "      <td>9.949416</td>\n",
       "      <td>9.859849</td>\n",
       "      <td>9.859065</td>\n",
       "    </tr>\n",
       "    <tr>\n",
       "      <th>5</th>\n",
       "      <td>0</td>\n",
       "      <td>0</td>\n",
       "      <td>False</td>\n",
       "      <td>3.610918</td>\n",
       "      <td>11.072869</td>\n",
       "      <td>10.952016</td>\n",
       "      <td>10.961417</td>\n",
       "      <td>9.872719</td>\n",
       "      <td>9.884254</td>\n",
       "      <td>9.904687</td>\n",
       "    </tr>\n",
       "  </tbody>\n",
       "</table>\n",
       "</div>"
      ],
      "text/plain": [
       "   PAY_0  PAY_2  IsDefault      _Age     _Bill1     _Bill2     _Bill3  \\\n",
       "1     -1      2       True  3.258097   7.894318   7.452982   7.894318   \n",
       "2      0      0      False  3.526361  10.283259   9.548739   9.514806   \n",
       "3      0      0      False  3.610918  10.757690  10.783799  10.805497   \n",
       "4     -1      0      False  4.043051   9.061492   8.642944  10.486680   \n",
       "5      0      0      False  3.610918  11.072869  10.952016  10.961417   \n",
       "\n",
       "      _Bill4     _Bill5     _Bill6  \n",
       "1   8.093157   8.147578   8.089789  \n",
       "2   9.570180   9.612333   9.651752  \n",
       "3  10.251112  10.273636  10.293737  \n",
       "4   9.949416   9.859849   9.859065  \n",
       "5   9.872719   9.884254   9.904687  "
      ]
     },
     "execution_count": 54,
     "metadata": {},
     "output_type": "execute_result"
    }
   ],
   "source": [
    "#features\n",
    "features = dataRFE.iloc[:,0:10]\n",
    "features.head()"
   ]
  },
  {
   "cell_type": "code",
   "execution_count": 55,
   "metadata": {},
   "outputs": [
    {
     "data": {
      "text/plain": [
       "1     True\n",
       "2    False\n",
       "3    False\n",
       "4    False\n",
       "5    False\n",
       "Name: IsDefault, dtype: bool"
      ]
     },
     "execution_count": 55,
     "metadata": {},
     "output_type": "execute_result"
    }
   ],
   "source": [
    "#dependent variable\n",
    "depVar = dataRFE['IsDefault']\n",
    "depVar.head()"
   ]
  },
  {
   "cell_type": "code",
   "execution_count": 56,
   "metadata": {},
   "outputs": [],
   "source": [
    "features_train, features_test, depVar_train, depVar_test = train_test_split(features, depVar, test_size=0.3, random_state=0)"
   ]
  },
  {
   "cell_type": "code",
   "execution_count": 57,
   "metadata": {},
   "outputs": [
    {
     "data": {
      "text/plain": [
       "((15668, 10), (6716, 10))"
      ]
     },
     "execution_count": 57,
     "metadata": {},
     "output_type": "execute_result"
    }
   ],
   "source": [
    "features_train.shape, features_test.shape"
   ]
  },
  {
   "cell_type": "markdown",
   "metadata": {},
   "source": [
    "# Clasification-Model Training"
   ]
  },
  {
   "cell_type": "markdown",
   "metadata": {},
   "source": [
    "Random Forest Run1(20 estimators,max_depth=8)"
   ]
  },
  {
   "cell_type": "code",
   "execution_count": null,
   "metadata": {},
   "outputs": [],
   "source": [
    "forest = RandomForestClassifier(random_state = 1)\n",
    "n_estimators = [20,100, 300, 500, 800, 1200]\n",
    "max_depth = [5, 8, 15,16, 25, 30,32]\n",
    "min_samples_split = [2, 5, 10, 15, 100]\n",
    "min_samples_leaf = [1, 2, 5, 10] \n",
    "\n",
    "hyperF = dict(n_estimators = n_estimators, max_depth = max_depth,  \n",
    "              min_samples_split = min_samples_split, \n",
    "             min_samples_leaf = min_samples_leaf)\n",
    "\n",
    "gridF = GridSearchCV(forest, hyperF, cv = 3, verbose = 1, \n",
    "                      n_jobs = -1)\n",
    "gridF = gridF.fit(features_train, depVar_train)\n",
    "print(gridF.best_params_)"
   ]
  },
  {
   "cell_type": "code",
   "execution_count": null,
   "metadata": {},
   "outputs": [],
   "source": [
    "modelRF = RandomForestClassifier(n_estimators=20, random_state=0,max_depth=8)\n",
    "modelRF.fit(features_train, depVar_train)\n",
    "modelRF_pred = modelRF.predict(features_test)\n",
    "modelRF.score(features_train, depVar_train)\n",
    "print(cross_val_score(modelRF, features_train, depVar_train)) \n",
    "print(confusion_matrix(depVar_test,modelRF_pred))\n",
    "print(classification_report(depVar_test,modelRF_pred))\n",
    "print(accuracy_score(depVar_test, modelRF_pred))\n",
    "\n",
    "#Accuracy result 0.8247777777777778"
   ]
  },
  {
   "cell_type": "markdown",
   "metadata": {},
   "source": [
    "Random Forest Run2(100 estimators,max_depth=8)"
   ]
  },
  {
   "cell_type": "code",
   "execution_count": 58,
   "metadata": {},
   "outputs": [
    {
     "name": "stdout",
     "output_type": "stream",
     "text": [
      "[1. 1. 1. 1. 1.]\n",
      "[[5178    0]\n",
      " [   0 1538]]\n",
      "              precision    recall  f1-score   support\n",
      "\n",
      "       False       1.00      1.00      1.00      5178\n",
      "        True       1.00      1.00      1.00      1538\n",
      "\n",
      "    accuracy                           1.00      6716\n",
      "   macro avg       1.00      1.00      1.00      6716\n",
      "weighted avg       1.00      1.00      1.00      6716\n",
      "\n",
      "1.0\n"
     ]
    }
   ],
   "source": [
    "modelRF = RandomForestClassifier(n_estimators=100, random_state=0,max_depth=16)\n",
    "modelRF.fit(features_train, depVar_train)\n",
    "modelRF_pred = modelRF.predict(features_test)\n",
    "modelRF.score(features_train, depVar_train)\n",
    "print(cross_val_score(modelRF, features_train, depVar_train)) \n",
    "print(confusion_matrix(depVar_test,modelRF_pred))\n",
    "print(classification_report(depVar_test,modelRF_pred))\n",
    "print(accuracy_score(depVar_test, modelRF_pred))\n",
    "\n",
    "#Accuracy result 0.8256666666666667"
   ]
  },
  {
   "cell_type": "markdown",
   "metadata": {},
   "source": [
    "Random Forest Run3(200 estimators,max_depth=16)"
   ]
  },
  {
   "cell_type": "code",
   "execution_count": null,
   "metadata": {},
   "outputs": [],
   "source": [
    "modelRF = RandomForestClassifier(n_estimators=200, random_state=0,max_depth=8)\n",
    "modelRF.fit(features_train, depVar_train)\n",
    "modelRF_pred = modelRF.predict(features_test)\n",
    "modelRF.score(features_train, depVar_train)\n",
    "print(cross_val_score(modelRF, features_train, depVar_train)) \n",
    "print(confusion_matrix(depVar_test,modelRF_pred))\n",
    "print(classification_report(depVar_test,modelRF_pred))\n",
    "print(accuracy_score(depVar_test, modelRF_pred))\n",
    "\n",
    "#Accuracy result 0.8256666666666667"
   ]
  },
  {
   "cell_type": "markdown",
   "metadata": {},
   "source": [
    "Support Vector Machine Run1"
   ]
  },
  {
   "cell_type": "code",
   "execution_count": null,
   "metadata": {},
   "outputs": [],
   "source": [
    "#Buscando mejores parametros"
   ]
  },
  {
   "cell_type": "code",
   "execution_count": null,
   "metadata": {},
   "outputs": [],
   "source": [
    "from sklearn.model_selection import GridSearchCV\n",
    "def svc_param_selection(X, y, nfolds):\n",
    "    Cs = [0.001, 0.01, 0.1, 1, 10]\n",
    "    gammas = [0.001, 0.01, 0.1, 1]\n",
    "    param_grid = {'C': Cs, 'gamma' : gammas}\n",
    "    grid_search = GridSearchCV(svm.SVC(kernel='rbf'), param_grid, cv=nfolds)\n",
    "    grid_search.fit(X,y)\n",
    "    grid_search.best_params_\n",
    "    return grid_search.best_params_\n",
    "\n",
    "grid=svc_param_selection(features_train,depVar_train,10)\n",
    "#Mejores parametros\n",
    "{'C': 10, 'gamma': 0.001}\n",
    "\n"
   ]
  },
  {
   "cell_type": "code",
   "execution_count": null,
   "metadata": {},
   "outputs": [],
   "source": [
    "print(grid)"
   ]
  },
  {
   "cell_type": "code",
   "execution_count": 16,
   "metadata": {},
   "outputs": [
    {
     "name": "stdout",
     "output_type": "stream",
     "text": [
      "[0.78952381 0.78547619 0.78595238 0.78571429 0.79190476]\n",
      "[[7027   33]\n",
      " [1780  160]]\n",
      "              precision    recall  f1-score   support\n",
      "\n",
      "       False       0.80      1.00      0.89      7060\n",
      "        True       0.83      0.08      0.15      1940\n",
      "\n",
      "    accuracy                           0.80      9000\n",
      "   macro avg       0.81      0.54      0.52      9000\n",
      "weighted avg       0.80      0.80      0.73      9000\n",
      "\n",
      "0.7985555555555556\n"
     ]
    }
   ],
   "source": [
    "from sklearn.svm import SVC\n",
    "modelSVM = SVC(C=10,gamma=0.001,kernel='rbf')\n",
    "modelSVM.fit(features_train, depVar_train)\n",
    "modelSVM_pred = modelSVM.predict(features_test)\n",
    "modelSVM.score(features_train, depVar_train)\n",
    "print(cross_val_score(modelSVM, features_train, depVar_train)) \n",
    "print(confusion_matrix(depVar_test,modelSVM_pred))\n",
    "print(classification_report(depVar_test,modelSVM_pred))\n",
    "print(accuracy_score(depVar_test, modelSVM_pred))\n",
    "\n",
    "#Accuracy result 0.7857777777777778"
   ]
  },
  {
   "cell_type": "markdown",
   "metadata": {},
   "source": [
    "AdaBoost Run1"
   ]
  },
  {
   "cell_type": "code",
   "execution_count": null,
   "metadata": {},
   "outputs": [],
   "source": [
    "#Encontrando mejores parametros\n",
    "from sklearn.model_selection import KFold\n",
    "crossvalidation=KFold(n_splits=10,shuffle=True,random_state=1)\n",
    "for depth in range (1,10):\n",
    "    tree_classifier=tree.DecisionTreeClassifier(max_depth=depth,random_state=1)\n",
    "    if tree_classifier.fit(features_train,depVar_train).tree_.max_depth<depth:\n",
    "        break\n",
    "    score=np.mean(cross_val_score(tree_classifier,features_train,depVar_train,scoring='accuracy', cv=crossvalidation,n_jobs=1))\n",
    "    print(depth, score)"
   ]
  },
  {
   "cell_type": "code",
   "execution_count": null,
   "metadata": {},
   "outputs": [],
   "source": [
    "from sklearn.ensemble import AdaBoostClassifier\n",
    "from sklearn.model_selection import GridSearchCV\n",
    "ada=AdaBoostClassifier()\n",
    "search_grid={'n_estimators':[50,500,1000,2000],'learning_rate':[.001,0.01,.1,1]}\n",
    "search=GridSearchCV(estimator=ada,param_grid=search_grid,scoring='accuracy',n_jobs=1,cv=crossvalidation)"
   ]
  },
  {
   "cell_type": "code",
   "execution_count": null,
   "metadata": {},
   "outputs": [],
   "source": [
    "search.fit(features_train,depVar_train)\n",
    "print(search.best_params_)\n",
    "print(search.best_score_)"
   ]
  },
  {
   "cell_type": "code",
   "execution_count": 17,
   "metadata": {},
   "outputs": [
    {
     "name": "stdout",
     "output_type": "stream",
     "text": [
      "[1. 1. 1. 1. 1.]\n",
      "[[7060    0]\n",
      " [   0 1940]]\n",
      "              precision    recall  f1-score   support\n",
      "\n",
      "       False       1.00      1.00      1.00      7060\n",
      "        True       1.00      1.00      1.00      1940\n",
      "\n",
      "    accuracy                           1.00      9000\n",
      "   macro avg       1.00      1.00      1.00      9000\n",
      "weighted avg       1.00      1.00      1.00      9000\n",
      "\n",
      "1.0\n"
     ]
    }
   ],
   "source": [
    "from sklearn.ensemble import AdaBoostClassifier\n",
    "modelABC = AdaBoostClassifier(n_estimators=50,learning_rate=0.001)\n",
    "modelABC.fit(features_train, depVar_train)\n",
    "modelABC_pred = modelABC.predict(features_test)\n",
    "modelABC.score(features_train, depVar_train)\n",
    "print(cross_val_score(modelABC, features_train, depVar_train)) \n",
    "print(confusion_matrix(depVar_test,modelABC_pred))\n",
    "print(classification_report(depVar_test,modelABC_pred))\n",
    "print(accuracy_score(depVar_test, modelABC_pred))\n",
    "\n",
    "#Accuracy result 0.826"
   ]
  },
  {
   "cell_type": "code",
   "execution_count": null,
   "metadata": {},
   "outputs": [],
   "source": []
  }
 ],
 "metadata": {
  "kernelspec": {
   "display_name": "Python 3",
   "language": "python",
   "name": "python3"
  },
  "language_info": {
   "codemirror_mode": {
    "name": "ipython",
    "version": 3
   },
   "file_extension": ".py",
   "mimetype": "text/x-python",
   "name": "python",
   "nbconvert_exporter": "python",
   "pygments_lexer": "ipython3",
   "version": "3.7.3"
  }
 },
 "nbformat": 4,
 "nbformat_minor": 2
}
